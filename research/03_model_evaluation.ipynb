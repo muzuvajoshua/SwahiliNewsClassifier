{
 "cells": [
  {
   "cell_type": "code",
   "execution_count": 1,
   "metadata": {},
   "outputs": [],
   "source": [
    "import os"
   ]
  },
  {
   "cell_type": "code",
   "execution_count": 2,
   "metadata": {},
   "outputs": [
    {
     "data": {
      "text/plain": [
       "'/home/joshua/Desktop/Refactory/SwahiliNewsClassifier/research'"
      ]
     },
     "execution_count": 2,
     "metadata": {},
     "output_type": "execute_result"
    }
   ],
   "source": [
    "%pwd"
   ]
  },
  {
   "cell_type": "code",
   "execution_count": 3,
   "metadata": {},
   "outputs": [
    {
     "data": {
      "text/plain": [
       "'/home/joshua/Desktop/Refactory/SwahiliNewsClassifier'"
      ]
     },
     "execution_count": 3,
     "metadata": {},
     "output_type": "execute_result"
    }
   ],
   "source": [
    "os.chdir(\"../\")\n",
    "%pwd"
   ]
  },
  {
   "cell_type": "code",
   "execution_count": 4,
   "metadata": {},
   "outputs": [],
   "source": [
    "# mlflow configs\n",
    "MLFLOW_TRACKING_URI = \"https://dagshub.com/muzuvajoshua/SwahiliNewsClassifier.mlflow\"\n",
    "MLFLOW_TRACKING_USERNAME = \"muzuvajoshua\"\n",
    "MLFLOW_TRACKING_PASSWORD = \"d96c53ff959b830daebf5fbb90c32cd5f669cce0\""
   ]
  },
  {
   "cell_type": "code",
   "execution_count": 5,
   "metadata": {},
   "outputs": [],
   "source": [
    "# mlflow configs\n",
    "os.environ[\"MLFLOW_TRACKING_URI\"]= MLFLOW_TRACKING_URI\n",
    "os.environ[\"MLFLOW_TRACKING_USERNAME\"]= MLFLOW_TRACKING_USERNAME\n",
    "os.environ[\"MLFLOW_TRACKING_PASSWORD\"]= MLFLOW_TRACKING_PASSWORD"
   ]
  },
  {
   "cell_type": "code",
   "execution_count": 6,
   "metadata": {},
   "outputs": [],
   "source": [
    "from swahiliNewsClassifier.constants import *\n",
    "from swahiliNewsClassifier.utils.common import read_yaml, create_directories, save_json\n"
   ]
  },
  {
   "cell_type": "code",
   "execution_count": null,
   "metadata": {},
   "outputs": [],
   "source": [
    "from dataclasses import dataclass\n",
    "from pathlib import Path\n",
    "from swahiliNewsClassifier.entity.config_entity import TrainingConfig\n",
    "@dataclass(frozen=True)\n",
    "class EvaluationConfig:\n",
    "    path_of_model: Path\n",
    "    training_data:Path\n",
    "    all_params: dict\n",
    "    mlflow_uri: str\n",
    "    "
   ]
  },
  {
   "cell_type": "code",
   "execution_count": null,
   "metadata": {},
   "outputs": [],
   "source": [
    "class ConfigurationManager:\n",
    "    \"\"\"Class for managing configuration files and preparing base models.\n",
    "    \n",
    "    This class handles the loading of configuration files and parameters,\n",
    "    as well as the creation of directories necessary for preparing base models.\n",
    "    \n",
    "    Attributes:\n",
    "        config_filepath (str, optional): The filepath of the configuration file. Defaults to CONFIG_FILE_PATH.\n",
    "        params_filepath (str, optional): The filepath of the parameters file. Defaults to PARAMS_FILE_PATH.\n",
    "    \n",
    "    Methods:\n",
    "        get_prepare_base_model_config(): Retrieves the configuration for preparing base models.\n",
    "    \"\"\"\n",
    "\n",
    "    def __init__(self, config_filepath=CONFIG_FILE_PATH, params_filepath=PARAMS_FILE_PATH) -> None:\n",
    "        \"\"\"Initializes the ConfigurationManager.\n",
    "\n",
    "        Args:\n",
    "            config_filepath (str, optional): The filepath of the configuration file. Defaults to CONFIG_FILE_PATH.\n",
    "            params_filepath (str, optional): The filepath of the parameters file. Defaults to PARAMS_FILE_PATH.\n",
    "        \"\"\"\n",
    "        self.config = read_yaml(config_filepath)\n",
    "        self.params = read_yaml(params_filepath)\n",
    "\n",
    "        create_directories([self.config.artifacts_root])\n",
    "\n",
    "    def get_evaluation_config(self) -> EvaluationConfig:\n",
    "\n",
    "        evaluation_config = EvaluationConfig(\n",
    "            path_of_model=self.config.training.trained_model_path,\n",
    "            training_data=os.path.join(self.config.data_ingestion.unzip_dir, \"dataset/train\"),\n",
    "            mlflow_uri=self.config.model_evaluation.mlflow_tracking_uri,\n",
    "            all_params=self.params,\n",
    "            params_image_size=self.params.IMAGE_SIZE,\n",
    "            params_batch_size=self.params.BATCH_SIZE\n",
    "        )\n",
    "\n",
    "        return evaluation_config"
   ]
  }
 ],
 "metadata": {
  "kernelspec": {
   "display_name": "swahili2",
   "language": "python",
   "name": "python3"
  },
  "language_info": {
   "codemirror_mode": {
    "name": "ipython",
    "version": 3
   },
   "file_extension": ".py",
   "mimetype": "text/x-python",
   "name": "python",
   "nbconvert_exporter": "python",
   "pygments_lexer": "ipython3",
   "version": "3.10.0"
  },
  "orig_nbformat": 4
 },
 "nbformat": 4,
 "nbformat_minor": 2
}
