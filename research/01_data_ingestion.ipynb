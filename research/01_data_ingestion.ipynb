{
 "cells": [
  {
   "cell_type": "code",
   "execution_count": 1,
   "metadata": {},
   "outputs": [],
   "source": [
    "import os"
   ]
  },
  {
   "cell_type": "code",
   "execution_count": 2,
   "metadata": {},
   "outputs": [
    {
     "data": {
      "text/plain": [
       "'/home/joshua/Desktop/Refactory/SwahiliNewsClassifier/research'"
      ]
     },
     "execution_count": 2,
     "metadata": {},
     "output_type": "execute_result"
    }
   ],
   "source": [
    "%pwd"
   ]
  },
  {
   "cell_type": "code",
   "execution_count": 3,
   "metadata": {},
   "outputs": [
    {
     "data": {
      "text/plain": [
       "'/home/joshua/Desktop/Refactory/SwahiliNewsClassifier'"
      ]
     },
     "execution_count": 3,
     "metadata": {},
     "output_type": "execute_result"
    }
   ],
   "source": [
    "os.chdir('../')\n",
    "%pwd"
   ]
  },
  {
   "cell_type": "code",
   "execution_count": 4,
   "metadata": {},
   "outputs": [],
   "source": [
    "from dataclasses import dataclass\n",
    "from pathlib import Path\n",
    "\n",
    "from swahiliNewsClassifier.constants import *\n",
    "from swahiliNewsClassifier.utils.common import read_yaml, create_directories"
   ]
  },
  {
   "cell_type": "code",
   "execution_count": 5,
   "metadata": {},
   "outputs": [],
   "source": [
    "@dataclass(frozen=True)\n",
    "class DataIngestionConfig:\n",
    "    root_dir: Path\n",
    "    train_source_URL: str\n",
    "    test_source_URL: str\n",
    "    train_data_file: Path\n",
    "    test_data_file: Path\n",
    "\n",
    "    unzip_dir: Path"
   ]
  },
  {
   "cell_type": "code",
   "execution_count": 6,
   "metadata": {},
   "outputs": [],
   "source": [
    "class ConfigurationManager:\n",
    "    def __init__(\n",
    "            self,\n",
    "            config_filepath = CONFIG_FILE_PATH,\n",
    "            params_filepath = PARAMS_FILE_PATH):\n",
    "\n",
    "        self.config = read_yaml(config_filepath)\n",
    "        self.params = read_yaml(params_filepath)\n",
    "\n",
    "        create_directories([self.config.artifacts_root])\n",
    "    \n",
    "    def get_data_ingestion_config(self) -> DataIngestionConfig:\n",
    "        config = self.config.data_ingestion\n",
    "\n",
    "        create_directories([config.root_dir])\n",
    "\n",
    "        data_ingestion_config = DataIngestionConfig(\n",
    "            root_dir=config.root_dir,\n",
    "            train_source_URL=config.train_source_URL,\n",
    "            test_source_URL=config.test_source_URL,\n",
    "            train_data_file=config.train_data_file,\n",
    "            test_data_file=config.test_data_file,\n",
    "            unzip_dir=config.unzip_dir\n",
    "        )\n",
    "\n",
    "        return data_ingestion_config"
   ]
  },
  {
   "cell_type": "code",
   "execution_count": 7,
   "metadata": {},
   "outputs": [],
   "source": [
    "import os\n",
    "import zipfile\n",
    "import gdown\n",
    "from swahiliNewsClassifier import logger"
   ]
  },
  {
   "cell_type": "code",
   "execution_count": 8,
   "metadata": {},
   "outputs": [],
   "source": [
    "class DataIngestion:\n",
    "    def __init__(self, config: DataIngestionConfig):\n",
    "        \"\"\"\n",
    "        Initialize DataIngestion object with the provided configuration.\n",
    "\n",
    "        Args:\n",
    "            config (DataIngestionConfig): Configuration object for data ingestion.\n",
    "        \"\"\"\n",
    "        self.config = config\n",
    "\n",
    "    def download_file(self):\n",
    "        \"\"\"Fetch data from a URL.\n",
    "        \n",
    "        Raises:\n",
    "            Exception: If an error occurs during the download process.\n",
    "        \"\"\"\n",
    "        try:\n",
    "            os.makedirs(\"artifacts/data_ingestion\", exist_ok=True)\n",
    "            dataset_urls = [self.config.train_source_URL, self.config.test_source_URL]\n",
    "            zip_download_dir =  [self.config.train_data_file, self.config.test_data_file]\n",
    "            for index in range(2):           \n",
    "            \n",
    "                logger.info(f\"Downloading data from {dataset_urls[index]} into file {zip_download_dir[index]}\")\n",
    "\n",
    "                file_id = dataset_urls[index].split(\"/\")[-2]\n",
    "                prefix = \"https://drive.google.com/uc?/export=download&id=\"\n",
    "                gdown.download(prefix + file_id, zip_download_dir[index])\n",
    "\n",
    "                logger.info(f\"Downloaded data from {dataset_urls[index]} into file {zip_download_dir[index]}\")\n",
    "\n",
    "        except Exception as e:\n",
    "            raise e\n",
    "        \n",
    "    def extract_zip_file(self):\n",
    "        \"\"\"Extract a zip file.\n",
    "\n",
    "            This method extracts the contents of a zip file specified in the configuration\n",
    "            to the directory specified in the configuration.\n",
    "\n",
    "            Raises:\n",
    "                Exception: If an error occurs during the extraction process.\n",
    "            \"\"\"\n",
    "        zip_download_dir =  [self.config.train_data_file, self.config.test_data_file]\n",
    "        for index in range(2):\n",
    "            try:\n",
    "                unzip_path = self.config.unzip_dir\n",
    "                os.makedirs(unzip_path, exist_ok=True)\n",
    "                \n",
    "                with zipfile.ZipFile(zip_download_dir[index], \"r\") as zip_ref:\n",
    "                    zip_ref.extractall(unzip_path)\n",
    "\n",
    "                logger.info(f\"Extracted zip file into: {unzip_path}\")\n",
    "\n",
    "            except Exception as e:\n",
    "                logger.error(f\"Error extracting zip file: {zip_download_dir[index]}\")\n",
    "                raise e\n",
    "            "
   ]
  },
  {
   "cell_type": "code",
   "execution_count": 9,
   "metadata": {},
   "outputs": [
    {
     "name": "stdout",
     "output_type": "stream",
     "text": [
      "[2024-05-08 16:28:28,258: INFO: common: yaml file: config/config.yaml loaded successfully]\n",
      "[2024-05-08 16:28:28,294: INFO: common: yaml file: params.yaml loaded successfully]\n",
      "[2024-05-08 16:28:28,300: INFO: common: Created directory at: artifacts]\n",
      "[2024-05-08 16:28:28,307: INFO: common: Created directory at: artifacts/data_ingestion]\n",
      "[2024-05-08 16:28:28,313: INFO: 4002371441: Downloading data from https://drive.google.com/file/d/15stuLDZkXNOgBUC1rnx5yXYdVPViUjNB/view?usp=sharing into file artifacts/data_ingestion/traindata.zip]\n"
     ]
    },
    {
     "name": "stderr",
     "output_type": "stream",
     "text": [
      "Downloading...\n",
      "From: https://drive.google.com/uc?/export=download&id=15stuLDZkXNOgBUC1rnx5yXYdVPViUjNB\n",
      "To: /home/joshua/Desktop/Refactory/SwahiliNewsClassifier/artifacts/data_ingestion/traindata.zip\n",
      "100%|██████████| 3.78M/3.78M [00:01<00:00, 2.19MB/s]\n"
     ]
    },
    {
     "name": "stdout",
     "output_type": "stream",
     "text": [
      "[2024-05-08 16:28:35,494: INFO: 4002371441: Downloaded data from https://drive.google.com/file/d/15stuLDZkXNOgBUC1rnx5yXYdVPViUjNB/view?usp=sharing into file artifacts/data_ingestion/traindata.zip]\n",
      "[2024-05-08 16:28:35,508: INFO: 4002371441: Downloading data from https://drive.google.com/file/d/1mjmYzMdnn_UwSEgTQ7i-cJ5WSOokt9Er/view?usp=sharing into file artifacts/data_ingestion/testdata.zip]\n"
     ]
    },
    {
     "name": "stderr",
     "output_type": "stream",
     "text": [
      "Downloading...\n",
      "From: https://drive.google.com/uc?/export=download&id=1mjmYzMdnn_UwSEgTQ7i-cJ5WSOokt9Er\n",
      "To: /home/joshua/Desktop/Refactory/SwahiliNewsClassifier/artifacts/data_ingestion/testdata.zip\n",
      "100%|██████████| 992k/992k [00:00<00:00, 1.46MB/s]"
     ]
    },
    {
     "name": "stdout",
     "output_type": "stream",
     "text": [
      "[2024-05-08 16:28:40,114: INFO: 4002371441: Downloaded data from https://drive.google.com/file/d/1mjmYzMdnn_UwSEgTQ7i-cJ5WSOokt9Er/view?usp=sharing into file artifacts/data_ingestion/testdata.zip]\n"
     ]
    },
    {
     "name": "stderr",
     "output_type": "stream",
     "text": [
      "\n"
     ]
    },
    {
     "name": "stdout",
     "output_type": "stream",
     "text": [
      "[2024-05-08 16:28:40,641: INFO: 4002371441: Extracted zip file into: artifacts/data_ingestion]\n",
      "[2024-05-08 16:28:40,840: INFO: 4002371441: Extracted zip file into: artifacts/data_ingestion]\n"
     ]
    }
   ],
   "source": [
    "try:\n",
    "    config = ConfigurationManager()\n",
    "    data_ingestion_config = config.get_data_ingestion_config()\n",
    "    data_ingestion = DataIngestion(config=data_ingestion_config)\n",
    "    data_ingestion.download_file()\n",
    "    data_ingestion.extract_zip_file()\n",
    "except Exception as e:\n",
    "    raise e"
   ]
  }
 ],
 "metadata": {
  "kernelspec": {
   "display_name": "swahili2",
   "language": "python",
   "name": "python3"
  },
  "language_info": {
   "codemirror_mode": {
    "name": "ipython",
    "version": 3
   },
   "file_extension": ".py",
   "mimetype": "text/x-python",
   "name": "python",
   "nbconvert_exporter": "python",
   "pygments_lexer": "ipython3",
   "version": "3.10.0"
  },
  "orig_nbformat": 4
 },
 "nbformat": 4,
 "nbformat_minor": 2
}
